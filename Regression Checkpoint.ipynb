{
 "cells": [
  {
   "cell_type": "code",
   "execution_count": 3,
   "id": "8813d62e",
   "metadata": {},
   "outputs": [],
   "source": [
    "import numpy as np\n",
    "import pandas as pd\n",
    "import matplotlib.pyplot as plt\n",
    "from sklearn.linear_model import LinearRegression as lg"
   ]
  },
  {
   "cell_type": "code",
   "execution_count": 4,
   "id": "0d321df5",
   "metadata": {},
   "outputs": [
    {
     "data": {
      "text/html": [
       "<div>\n",
       "<style scoped>\n",
       "    .dataframe tbody tr th:only-of-type {\n",
       "        vertical-align: middle;\n",
       "    }\n",
       "\n",
       "    .dataframe tbody tr th {\n",
       "        vertical-align: top;\n",
       "    }\n",
       "\n",
       "    .dataframe thead th {\n",
       "        text-align: right;\n",
       "    }\n",
       "</style>\n",
       "<table border=\"1\" class=\"dataframe\">\n",
       "  <thead>\n",
       "    <tr style=\"text-align: right;\">\n",
       "      <th></th>\n",
       "      <th>id</th>\n",
       "      <th>date</th>\n",
       "      <th>price</th>\n",
       "      <th>bedrooms</th>\n",
       "      <th>bathrooms</th>\n",
       "      <th>sqft_living</th>\n",
       "      <th>sqft_lot</th>\n",
       "      <th>floors</th>\n",
       "      <th>waterfront</th>\n",
       "      <th>view</th>\n",
       "      <th>...</th>\n",
       "      <th>grade</th>\n",
       "      <th>sqft_above</th>\n",
       "      <th>sqft_basement</th>\n",
       "      <th>yr_built</th>\n",
       "      <th>yr_renovated</th>\n",
       "      <th>zipcode</th>\n",
       "      <th>lat</th>\n",
       "      <th>long</th>\n",
       "      <th>sqft_living15</th>\n",
       "      <th>sqft_lot15</th>\n",
       "    </tr>\n",
       "  </thead>\n",
       "  <tbody>\n",
       "    <tr>\n",
       "      <th>0</th>\n",
       "      <td>7129300520</td>\n",
       "      <td>20141013T000000</td>\n",
       "      <td>221900.0</td>\n",
       "      <td>3</td>\n",
       "      <td>1.00</td>\n",
       "      <td>1180</td>\n",
       "      <td>5650</td>\n",
       "      <td>1.0</td>\n",
       "      <td>0</td>\n",
       "      <td>0</td>\n",
       "      <td>...</td>\n",
       "      <td>7</td>\n",
       "      <td>1180</td>\n",
       "      <td>0</td>\n",
       "      <td>1955</td>\n",
       "      <td>0</td>\n",
       "      <td>98178</td>\n",
       "      <td>47.5112</td>\n",
       "      <td>-122.257</td>\n",
       "      <td>1340</td>\n",
       "      <td>5650</td>\n",
       "    </tr>\n",
       "    <tr>\n",
       "      <th>1</th>\n",
       "      <td>6414100192</td>\n",
       "      <td>20141209T000000</td>\n",
       "      <td>538000.0</td>\n",
       "      <td>3</td>\n",
       "      <td>2.25</td>\n",
       "      <td>2570</td>\n",
       "      <td>7242</td>\n",
       "      <td>2.0</td>\n",
       "      <td>0</td>\n",
       "      <td>0</td>\n",
       "      <td>...</td>\n",
       "      <td>7</td>\n",
       "      <td>2170</td>\n",
       "      <td>400</td>\n",
       "      <td>1951</td>\n",
       "      <td>1991</td>\n",
       "      <td>98125</td>\n",
       "      <td>47.7210</td>\n",
       "      <td>-122.319</td>\n",
       "      <td>1690</td>\n",
       "      <td>7639</td>\n",
       "    </tr>\n",
       "    <tr>\n",
       "      <th>2</th>\n",
       "      <td>5631500400</td>\n",
       "      <td>20150225T000000</td>\n",
       "      <td>180000.0</td>\n",
       "      <td>2</td>\n",
       "      <td>1.00</td>\n",
       "      <td>770</td>\n",
       "      <td>10000</td>\n",
       "      <td>1.0</td>\n",
       "      <td>0</td>\n",
       "      <td>0</td>\n",
       "      <td>...</td>\n",
       "      <td>6</td>\n",
       "      <td>770</td>\n",
       "      <td>0</td>\n",
       "      <td>1933</td>\n",
       "      <td>0</td>\n",
       "      <td>98028</td>\n",
       "      <td>47.7379</td>\n",
       "      <td>-122.233</td>\n",
       "      <td>2720</td>\n",
       "      <td>8062</td>\n",
       "    </tr>\n",
       "    <tr>\n",
       "      <th>3</th>\n",
       "      <td>2487200875</td>\n",
       "      <td>20141209T000000</td>\n",
       "      <td>604000.0</td>\n",
       "      <td>4</td>\n",
       "      <td>3.00</td>\n",
       "      <td>1960</td>\n",
       "      <td>5000</td>\n",
       "      <td>1.0</td>\n",
       "      <td>0</td>\n",
       "      <td>0</td>\n",
       "      <td>...</td>\n",
       "      <td>7</td>\n",
       "      <td>1050</td>\n",
       "      <td>910</td>\n",
       "      <td>1965</td>\n",
       "      <td>0</td>\n",
       "      <td>98136</td>\n",
       "      <td>47.5208</td>\n",
       "      <td>-122.393</td>\n",
       "      <td>1360</td>\n",
       "      <td>5000</td>\n",
       "    </tr>\n",
       "    <tr>\n",
       "      <th>4</th>\n",
       "      <td>1954400510</td>\n",
       "      <td>20150218T000000</td>\n",
       "      <td>510000.0</td>\n",
       "      <td>3</td>\n",
       "      <td>2.00</td>\n",
       "      <td>1680</td>\n",
       "      <td>8080</td>\n",
       "      <td>1.0</td>\n",
       "      <td>0</td>\n",
       "      <td>0</td>\n",
       "      <td>...</td>\n",
       "      <td>8</td>\n",
       "      <td>1680</td>\n",
       "      <td>0</td>\n",
       "      <td>1987</td>\n",
       "      <td>0</td>\n",
       "      <td>98074</td>\n",
       "      <td>47.6168</td>\n",
       "      <td>-122.045</td>\n",
       "      <td>1800</td>\n",
       "      <td>7503</td>\n",
       "    </tr>\n",
       "  </tbody>\n",
       "</table>\n",
       "<p>5 rows × 21 columns</p>\n",
       "</div>"
      ],
      "text/plain": [
       "           id             date     price  bedrooms  bathrooms  sqft_living  \\\n",
       "0  7129300520  20141013T000000  221900.0         3       1.00         1180   \n",
       "1  6414100192  20141209T000000  538000.0         3       2.25         2570   \n",
       "2  5631500400  20150225T000000  180000.0         2       1.00          770   \n",
       "3  2487200875  20141209T000000  604000.0         4       3.00         1960   \n",
       "4  1954400510  20150218T000000  510000.0         3       2.00         1680   \n",
       "\n",
       "   sqft_lot  floors  waterfront  view  ...  grade  sqft_above  sqft_basement  \\\n",
       "0      5650     1.0           0     0  ...      7        1180              0   \n",
       "1      7242     2.0           0     0  ...      7        2170            400   \n",
       "2     10000     1.0           0     0  ...      6         770              0   \n",
       "3      5000     1.0           0     0  ...      7        1050            910   \n",
       "4      8080     1.0           0     0  ...      8        1680              0   \n",
       "\n",
       "   yr_built  yr_renovated  zipcode      lat     long  sqft_living15  \\\n",
       "0      1955             0    98178  47.5112 -122.257           1340   \n",
       "1      1951          1991    98125  47.7210 -122.319           1690   \n",
       "2      1933             0    98028  47.7379 -122.233           2720   \n",
       "3      1965             0    98136  47.5208 -122.393           1360   \n",
       "4      1987             0    98074  47.6168 -122.045           1800   \n",
       "\n",
       "   sqft_lot15  \n",
       "0        5650  \n",
       "1        7639  \n",
       "2        8062  \n",
       "3        5000  \n",
       "4        7503  \n",
       "\n",
       "[5 rows x 21 columns]"
      ]
     },
     "execution_count": 4,
     "metadata": {},
     "output_type": "execute_result"
    }
   ],
   "source": [
    "df = pd.read_csv(r'kc_house_data.csv')\n",
    "df.head()"
   ]
  },
  {
   "cell_type": "code",
   "execution_count": 5,
   "id": "86708f1d",
   "metadata": {},
   "outputs": [
    {
     "name": "stdout",
     "output_type": "stream",
     "text": [
      "<class 'pandas.core.frame.DataFrame'>\n",
      "RangeIndex: 21613 entries, 0 to 21612\n",
      "Data columns (total 21 columns):\n",
      " #   Column         Non-Null Count  Dtype  \n",
      "---  ------         --------------  -----  \n",
      " 0   id             21613 non-null  int64  \n",
      " 1   date           21613 non-null  object \n",
      " 2   price          21613 non-null  float64\n",
      " 3   bedrooms       21613 non-null  int64  \n",
      " 4   bathrooms      21613 non-null  float64\n",
      " 5   sqft_living    21613 non-null  int64  \n",
      " 6   sqft_lot       21613 non-null  int64  \n",
      " 7   floors         21613 non-null  float64\n",
      " 8   waterfront     21613 non-null  int64  \n",
      " 9   view           21613 non-null  int64  \n",
      " 10  condition      21613 non-null  int64  \n",
      " 11  grade          21613 non-null  int64  \n",
      " 12  sqft_above     21613 non-null  int64  \n",
      " 13  sqft_basement  21613 non-null  int64  \n",
      " 14  yr_built       21613 non-null  int64  \n",
      " 15  yr_renovated   21613 non-null  int64  \n",
      " 16  zipcode        21613 non-null  int64  \n",
      " 17  lat            21613 non-null  float64\n",
      " 18  long           21613 non-null  float64\n",
      " 19  sqft_living15  21613 non-null  int64  \n",
      " 20  sqft_lot15     21613 non-null  int64  \n",
      "dtypes: float64(5), int64(15), object(1)\n",
      "memory usage: 3.5+ MB\n"
     ]
    }
   ],
   "source": [
    "df.info()"
   ]
  },
  {
   "cell_type": "code",
   "execution_count": 6,
   "id": "9983eb6e",
   "metadata": {},
   "outputs": [],
   "source": [
    "def get_year(string):\n",
    "    return int(string[:4])"
   ]
  },
  {
   "cell_type": "code",
   "execution_count": 7,
   "id": "b346020b",
   "metadata": {},
   "outputs": [],
   "source": [
    "df['date'] = df['date'].map(str)"
   ]
  },
  {
   "cell_type": "code",
   "execution_count": 8,
   "id": "e80f5928",
   "metadata": {},
   "outputs": [],
   "source": [
    "df['yr_sell'] = df['date'].map(get_year)"
   ]
  },
  {
   "cell_type": "code",
   "execution_count": 9,
   "id": "97ec0bf8",
   "metadata": {},
   "outputs": [],
   "source": [
    "df['age'] = df['yr_sell'] - df['yr_built']"
   ]
  },
  {
   "cell_type": "code",
   "execution_count": 10,
   "id": "82857aba",
   "metadata": {},
   "outputs": [
    {
     "data": {
      "text/html": [
       "<div>\n",
       "<style scoped>\n",
       "    .dataframe tbody tr th:only-of-type {\n",
       "        vertical-align: middle;\n",
       "    }\n",
       "\n",
       "    .dataframe tbody tr th {\n",
       "        vertical-align: top;\n",
       "    }\n",
       "\n",
       "    .dataframe thead th {\n",
       "        text-align: right;\n",
       "    }\n",
       "</style>\n",
       "<table border=\"1\" class=\"dataframe\">\n",
       "  <thead>\n",
       "    <tr style=\"text-align: right;\">\n",
       "      <th></th>\n",
       "      <th>id</th>\n",
       "      <th>date</th>\n",
       "      <th>price</th>\n",
       "      <th>bedrooms</th>\n",
       "      <th>bathrooms</th>\n",
       "      <th>sqft_living</th>\n",
       "      <th>sqft_lot</th>\n",
       "      <th>floors</th>\n",
       "      <th>waterfront</th>\n",
       "      <th>view</th>\n",
       "      <th>...</th>\n",
       "      <th>sqft_basement</th>\n",
       "      <th>yr_built</th>\n",
       "      <th>yr_renovated</th>\n",
       "      <th>zipcode</th>\n",
       "      <th>lat</th>\n",
       "      <th>long</th>\n",
       "      <th>sqft_living15</th>\n",
       "      <th>sqft_lot15</th>\n",
       "      <th>yr_sell</th>\n",
       "      <th>age</th>\n",
       "    </tr>\n",
       "  </thead>\n",
       "  <tbody>\n",
       "    <tr>\n",
       "      <th>0</th>\n",
       "      <td>7129300520</td>\n",
       "      <td>20141013T000000</td>\n",
       "      <td>221900.0</td>\n",
       "      <td>3</td>\n",
       "      <td>1.00</td>\n",
       "      <td>1180</td>\n",
       "      <td>5650</td>\n",
       "      <td>1.0</td>\n",
       "      <td>0</td>\n",
       "      <td>0</td>\n",
       "      <td>...</td>\n",
       "      <td>0</td>\n",
       "      <td>1955</td>\n",
       "      <td>0</td>\n",
       "      <td>98178</td>\n",
       "      <td>47.5112</td>\n",
       "      <td>-122.257</td>\n",
       "      <td>1340</td>\n",
       "      <td>5650</td>\n",
       "      <td>2014</td>\n",
       "      <td>59</td>\n",
       "    </tr>\n",
       "    <tr>\n",
       "      <th>1</th>\n",
       "      <td>6414100192</td>\n",
       "      <td>20141209T000000</td>\n",
       "      <td>538000.0</td>\n",
       "      <td>3</td>\n",
       "      <td>2.25</td>\n",
       "      <td>2570</td>\n",
       "      <td>7242</td>\n",
       "      <td>2.0</td>\n",
       "      <td>0</td>\n",
       "      <td>0</td>\n",
       "      <td>...</td>\n",
       "      <td>400</td>\n",
       "      <td>1951</td>\n",
       "      <td>1991</td>\n",
       "      <td>98125</td>\n",
       "      <td>47.7210</td>\n",
       "      <td>-122.319</td>\n",
       "      <td>1690</td>\n",
       "      <td>7639</td>\n",
       "      <td>2014</td>\n",
       "      <td>63</td>\n",
       "    </tr>\n",
       "    <tr>\n",
       "      <th>2</th>\n",
       "      <td>5631500400</td>\n",
       "      <td>20150225T000000</td>\n",
       "      <td>180000.0</td>\n",
       "      <td>2</td>\n",
       "      <td>1.00</td>\n",
       "      <td>770</td>\n",
       "      <td>10000</td>\n",
       "      <td>1.0</td>\n",
       "      <td>0</td>\n",
       "      <td>0</td>\n",
       "      <td>...</td>\n",
       "      <td>0</td>\n",
       "      <td>1933</td>\n",
       "      <td>0</td>\n",
       "      <td>98028</td>\n",
       "      <td>47.7379</td>\n",
       "      <td>-122.233</td>\n",
       "      <td>2720</td>\n",
       "      <td>8062</td>\n",
       "      <td>2015</td>\n",
       "      <td>82</td>\n",
       "    </tr>\n",
       "    <tr>\n",
       "      <th>3</th>\n",
       "      <td>2487200875</td>\n",
       "      <td>20141209T000000</td>\n",
       "      <td>604000.0</td>\n",
       "      <td>4</td>\n",
       "      <td>3.00</td>\n",
       "      <td>1960</td>\n",
       "      <td>5000</td>\n",
       "      <td>1.0</td>\n",
       "      <td>0</td>\n",
       "      <td>0</td>\n",
       "      <td>...</td>\n",
       "      <td>910</td>\n",
       "      <td>1965</td>\n",
       "      <td>0</td>\n",
       "      <td>98136</td>\n",
       "      <td>47.5208</td>\n",
       "      <td>-122.393</td>\n",
       "      <td>1360</td>\n",
       "      <td>5000</td>\n",
       "      <td>2014</td>\n",
       "      <td>49</td>\n",
       "    </tr>\n",
       "    <tr>\n",
       "      <th>4</th>\n",
       "      <td>1954400510</td>\n",
       "      <td>20150218T000000</td>\n",
       "      <td>510000.0</td>\n",
       "      <td>3</td>\n",
       "      <td>2.00</td>\n",
       "      <td>1680</td>\n",
       "      <td>8080</td>\n",
       "      <td>1.0</td>\n",
       "      <td>0</td>\n",
       "      <td>0</td>\n",
       "      <td>...</td>\n",
       "      <td>0</td>\n",
       "      <td>1987</td>\n",
       "      <td>0</td>\n",
       "      <td>98074</td>\n",
       "      <td>47.6168</td>\n",
       "      <td>-122.045</td>\n",
       "      <td>1800</td>\n",
       "      <td>7503</td>\n",
       "      <td>2015</td>\n",
       "      <td>28</td>\n",
       "    </tr>\n",
       "  </tbody>\n",
       "</table>\n",
       "<p>5 rows × 23 columns</p>\n",
       "</div>"
      ],
      "text/plain": [
       "           id             date     price  bedrooms  bathrooms  sqft_living  \\\n",
       "0  7129300520  20141013T000000  221900.0         3       1.00         1180   \n",
       "1  6414100192  20141209T000000  538000.0         3       2.25         2570   \n",
       "2  5631500400  20150225T000000  180000.0         2       1.00          770   \n",
       "3  2487200875  20141209T000000  604000.0         4       3.00         1960   \n",
       "4  1954400510  20150218T000000  510000.0         3       2.00         1680   \n",
       "\n",
       "   sqft_lot  floors  waterfront  view  ...  sqft_basement  yr_built  \\\n",
       "0      5650     1.0           0     0  ...              0      1955   \n",
       "1      7242     2.0           0     0  ...            400      1951   \n",
       "2     10000     1.0           0     0  ...              0      1933   \n",
       "3      5000     1.0           0     0  ...            910      1965   \n",
       "4      8080     1.0           0     0  ...              0      1987   \n",
       "\n",
       "   yr_renovated  zipcode      lat     long  sqft_living15  sqft_lot15  \\\n",
       "0             0    98178  47.5112 -122.257           1340        5650   \n",
       "1          1991    98125  47.7210 -122.319           1690        7639   \n",
       "2             0    98028  47.7379 -122.233           2720        8062   \n",
       "3             0    98136  47.5208 -122.393           1360        5000   \n",
       "4             0    98074  47.6168 -122.045           1800        7503   \n",
       "\n",
       "   yr_sell  age  \n",
       "0     2014   59  \n",
       "1     2014   63  \n",
       "2     2015   82  \n",
       "3     2014   49  \n",
       "4     2015   28  \n",
       "\n",
       "[5 rows x 23 columns]"
      ]
     },
     "execution_count": 10,
     "metadata": {},
     "output_type": "execute_result"
    }
   ],
   "source": [
    "df.head()"
   ]
  },
  {
   "cell_type": "markdown",
   "id": "e392f8f8",
   "metadata": {},
   "source": [
    "We have calculated the age of the houses by getting the year of sold from the 'date' feature and substract the 'year of built'.\n",
    "Our df now includes two more columns : yr_solde & age"
   ]
  },
  {
   "cell_type": "code",
   "execution_count": 11,
   "id": "9cf51471",
   "metadata": {},
   "outputs": [
    {
     "data": {
      "text/html": [
       "<div>\n",
       "<style scoped>\n",
       "    .dataframe tbody tr th:only-of-type {\n",
       "        vertical-align: middle;\n",
       "    }\n",
       "\n",
       "    .dataframe tbody tr th {\n",
       "        vertical-align: top;\n",
       "    }\n",
       "\n",
       "    .dataframe thead th {\n",
       "        text-align: right;\n",
       "    }\n",
       "</style>\n",
       "<table border=\"1\" class=\"dataframe\">\n",
       "  <thead>\n",
       "    <tr style=\"text-align: right;\">\n",
       "      <th></th>\n",
       "      <th>id</th>\n",
       "      <th>price</th>\n",
       "      <th>bedrooms</th>\n",
       "      <th>bathrooms</th>\n",
       "      <th>sqft_living</th>\n",
       "      <th>sqft_lot</th>\n",
       "      <th>floors</th>\n",
       "      <th>waterfront</th>\n",
       "      <th>view</th>\n",
       "      <th>condition</th>\n",
       "      <th>...</th>\n",
       "      <th>sqft_basement</th>\n",
       "      <th>yr_built</th>\n",
       "      <th>yr_renovated</th>\n",
       "      <th>zipcode</th>\n",
       "      <th>lat</th>\n",
       "      <th>long</th>\n",
       "      <th>sqft_living15</th>\n",
       "      <th>sqft_lot15</th>\n",
       "      <th>yr_sell</th>\n",
       "      <th>age</th>\n",
       "    </tr>\n",
       "  </thead>\n",
       "  <tbody>\n",
       "    <tr>\n",
       "      <th>id</th>\n",
       "      <td>1.000000</td>\n",
       "      <td>-0.016762</td>\n",
       "      <td>0.001286</td>\n",
       "      <td>0.005160</td>\n",
       "      <td>-0.012258</td>\n",
       "      <td>-0.132109</td>\n",
       "      <td>0.018525</td>\n",
       "      <td>-0.002721</td>\n",
       "      <td>0.011592</td>\n",
       "      <td>-0.023783</td>\n",
       "      <td>...</td>\n",
       "      <td>-0.005151</td>\n",
       "      <td>0.021380</td>\n",
       "      <td>-0.016907</td>\n",
       "      <td>-0.008224</td>\n",
       "      <td>-0.001891</td>\n",
       "      <td>0.020799</td>\n",
       "      <td>-0.002901</td>\n",
       "      <td>-0.138798</td>\n",
       "      <td>0.010128</td>\n",
       "      <td>-0.021217</td>\n",
       "    </tr>\n",
       "    <tr>\n",
       "      <th>price</th>\n",
       "      <td>-0.016762</td>\n",
       "      <td>1.000000</td>\n",
       "      <td>0.308350</td>\n",
       "      <td>0.525138</td>\n",
       "      <td>0.702035</td>\n",
       "      <td>0.089661</td>\n",
       "      <td>0.256794</td>\n",
       "      <td>0.266369</td>\n",
       "      <td>0.397293</td>\n",
       "      <td>0.036362</td>\n",
       "      <td>...</td>\n",
       "      <td>0.323816</td>\n",
       "      <td>0.054012</td>\n",
       "      <td>0.126434</td>\n",
       "      <td>-0.053203</td>\n",
       "      <td>0.307003</td>\n",
       "      <td>0.021626</td>\n",
       "      <td>0.585379</td>\n",
       "      <td>0.082447</td>\n",
       "      <td>0.003576</td>\n",
       "      <td>-0.053951</td>\n",
       "    </tr>\n",
       "    <tr>\n",
       "      <th>bedrooms</th>\n",
       "      <td>0.001286</td>\n",
       "      <td>0.308350</td>\n",
       "      <td>1.000000</td>\n",
       "      <td>0.515884</td>\n",
       "      <td>0.576671</td>\n",
       "      <td>0.031703</td>\n",
       "      <td>0.175429</td>\n",
       "      <td>-0.006582</td>\n",
       "      <td>0.079532</td>\n",
       "      <td>0.028472</td>\n",
       "      <td>...</td>\n",
       "      <td>0.303093</td>\n",
       "      <td>0.154178</td>\n",
       "      <td>0.018841</td>\n",
       "      <td>-0.152668</td>\n",
       "      <td>-0.008931</td>\n",
       "      <td>0.129473</td>\n",
       "      <td>0.391638</td>\n",
       "      <td>0.029244</td>\n",
       "      <td>-0.009838</td>\n",
       "      <td>-0.154324</td>\n",
       "    </tr>\n",
       "    <tr>\n",
       "      <th>bathrooms</th>\n",
       "      <td>0.005160</td>\n",
       "      <td>0.525138</td>\n",
       "      <td>0.515884</td>\n",
       "      <td>1.000000</td>\n",
       "      <td>0.754665</td>\n",
       "      <td>0.087740</td>\n",
       "      <td>0.500653</td>\n",
       "      <td>0.063744</td>\n",
       "      <td>0.187737</td>\n",
       "      <td>-0.124982</td>\n",
       "      <td>...</td>\n",
       "      <td>0.283770</td>\n",
       "      <td>0.506019</td>\n",
       "      <td>0.050739</td>\n",
       "      <td>-0.203866</td>\n",
       "      <td>0.024573</td>\n",
       "      <td>0.223042</td>\n",
       "      <td>0.568634</td>\n",
       "      <td>0.087175</td>\n",
       "      <td>-0.026596</td>\n",
       "      <td>-0.506407</td>\n",
       "    </tr>\n",
       "    <tr>\n",
       "      <th>sqft_living</th>\n",
       "      <td>-0.012258</td>\n",
       "      <td>0.702035</td>\n",
       "      <td>0.576671</td>\n",
       "      <td>0.754665</td>\n",
       "      <td>1.000000</td>\n",
       "      <td>0.172826</td>\n",
       "      <td>0.353949</td>\n",
       "      <td>0.103818</td>\n",
       "      <td>0.284611</td>\n",
       "      <td>-0.058753</td>\n",
       "      <td>...</td>\n",
       "      <td>0.435043</td>\n",
       "      <td>0.318049</td>\n",
       "      <td>0.055363</td>\n",
       "      <td>-0.199430</td>\n",
       "      <td>0.052529</td>\n",
       "      <td>0.240223</td>\n",
       "      <td>0.756420</td>\n",
       "      <td>0.183286</td>\n",
       "      <td>-0.029038</td>\n",
       "      <td>-0.318488</td>\n",
       "    </tr>\n",
       "    <tr>\n",
       "      <th>sqft_lot</th>\n",
       "      <td>-0.132109</td>\n",
       "      <td>0.089661</td>\n",
       "      <td>0.031703</td>\n",
       "      <td>0.087740</td>\n",
       "      <td>0.172826</td>\n",
       "      <td>1.000000</td>\n",
       "      <td>-0.005201</td>\n",
       "      <td>0.021604</td>\n",
       "      <td>0.074710</td>\n",
       "      <td>-0.008958</td>\n",
       "      <td>...</td>\n",
       "      <td>0.015286</td>\n",
       "      <td>0.053080</td>\n",
       "      <td>0.007644</td>\n",
       "      <td>-0.129574</td>\n",
       "      <td>-0.085683</td>\n",
       "      <td>0.229521</td>\n",
       "      <td>0.144608</td>\n",
       "      <td>0.718557</td>\n",
       "      <td>0.005468</td>\n",
       "      <td>-0.052990</td>\n",
       "    </tr>\n",
       "    <tr>\n",
       "      <th>floors</th>\n",
       "      <td>0.018525</td>\n",
       "      <td>0.256794</td>\n",
       "      <td>0.175429</td>\n",
       "      <td>0.500653</td>\n",
       "      <td>0.353949</td>\n",
       "      <td>-0.005201</td>\n",
       "      <td>1.000000</td>\n",
       "      <td>0.023698</td>\n",
       "      <td>0.029444</td>\n",
       "      <td>-0.263768</td>\n",
       "      <td>...</td>\n",
       "      <td>-0.245705</td>\n",
       "      <td>0.489319</td>\n",
       "      <td>0.006338</td>\n",
       "      <td>-0.059121</td>\n",
       "      <td>0.049614</td>\n",
       "      <td>0.125419</td>\n",
       "      <td>0.279885</td>\n",
       "      <td>-0.011269</td>\n",
       "      <td>-0.022315</td>\n",
       "      <td>-0.489640</td>\n",
       "    </tr>\n",
       "    <tr>\n",
       "      <th>waterfront</th>\n",
       "      <td>-0.002721</td>\n",
       "      <td>0.266369</td>\n",
       "      <td>-0.006582</td>\n",
       "      <td>0.063744</td>\n",
       "      <td>0.103818</td>\n",
       "      <td>0.021604</td>\n",
       "      <td>0.023698</td>\n",
       "      <td>1.000000</td>\n",
       "      <td>0.401857</td>\n",
       "      <td>0.016653</td>\n",
       "      <td>...</td>\n",
       "      <td>0.080588</td>\n",
       "      <td>-0.026161</td>\n",
       "      <td>0.092885</td>\n",
       "      <td>0.030285</td>\n",
       "      <td>-0.014274</td>\n",
       "      <td>-0.041910</td>\n",
       "      <td>0.086463</td>\n",
       "      <td>0.030703</td>\n",
       "      <td>-0.004165</td>\n",
       "      <td>0.026093</td>\n",
       "    </tr>\n",
       "    <tr>\n",
       "      <th>view</th>\n",
       "      <td>0.011592</td>\n",
       "      <td>0.397293</td>\n",
       "      <td>0.079532</td>\n",
       "      <td>0.187737</td>\n",
       "      <td>0.284611</td>\n",
       "      <td>0.074710</td>\n",
       "      <td>0.029444</td>\n",
       "      <td>0.401857</td>\n",
       "      <td>1.000000</td>\n",
       "      <td>0.045990</td>\n",
       "      <td>...</td>\n",
       "      <td>0.276947</td>\n",
       "      <td>-0.053440</td>\n",
       "      <td>0.103917</td>\n",
       "      <td>0.084827</td>\n",
       "      <td>0.006157</td>\n",
       "      <td>-0.078400</td>\n",
       "      <td>0.280439</td>\n",
       "      <td>0.072575</td>\n",
       "      <td>0.001364</td>\n",
       "      <td>0.053458</td>\n",
       "    </tr>\n",
       "    <tr>\n",
       "      <th>condition</th>\n",
       "      <td>-0.023783</td>\n",
       "      <td>0.036362</td>\n",
       "      <td>0.028472</td>\n",
       "      <td>-0.124982</td>\n",
       "      <td>-0.058753</td>\n",
       "      <td>-0.008958</td>\n",
       "      <td>-0.263768</td>\n",
       "      <td>0.016653</td>\n",
       "      <td>0.045990</td>\n",
       "      <td>1.000000</td>\n",
       "      <td>...</td>\n",
       "      <td>0.174105</td>\n",
       "      <td>-0.361417</td>\n",
       "      <td>-0.060618</td>\n",
       "      <td>0.003026</td>\n",
       "      <td>-0.014941</td>\n",
       "      <td>-0.106500</td>\n",
       "      <td>-0.092824</td>\n",
       "      <td>-0.003406</td>\n",
       "      <td>-0.045589</td>\n",
       "      <td>0.360665</td>\n",
       "    </tr>\n",
       "    <tr>\n",
       "      <th>grade</th>\n",
       "      <td>0.008130</td>\n",
       "      <td>0.667434</td>\n",
       "      <td>0.356967</td>\n",
       "      <td>0.664983</td>\n",
       "      <td>0.762704</td>\n",
       "      <td>0.113621</td>\n",
       "      <td>0.458183</td>\n",
       "      <td>0.082775</td>\n",
       "      <td>0.251321</td>\n",
       "      <td>-0.144674</td>\n",
       "      <td>...</td>\n",
       "      <td>0.168392</td>\n",
       "      <td>0.446963</td>\n",
       "      <td>0.014414</td>\n",
       "      <td>-0.184862</td>\n",
       "      <td>0.114084</td>\n",
       "      <td>0.198372</td>\n",
       "      <td>0.713202</td>\n",
       "      <td>0.119248</td>\n",
       "      <td>-0.030387</td>\n",
       "      <td>-0.447415</td>\n",
       "    </tr>\n",
       "    <tr>\n",
       "      <th>sqft_above</th>\n",
       "      <td>-0.010842</td>\n",
       "      <td>0.605567</td>\n",
       "      <td>0.477600</td>\n",
       "      <td>0.685342</td>\n",
       "      <td>0.876597</td>\n",
       "      <td>0.183512</td>\n",
       "      <td>0.523885</td>\n",
       "      <td>0.072075</td>\n",
       "      <td>0.167649</td>\n",
       "      <td>-0.158214</td>\n",
       "      <td>...</td>\n",
       "      <td>-0.051943</td>\n",
       "      <td>0.423898</td>\n",
       "      <td>0.023285</td>\n",
       "      <td>-0.261190</td>\n",
       "      <td>-0.000816</td>\n",
       "      <td>0.343803</td>\n",
       "      <td>0.731870</td>\n",
       "      <td>0.194050</td>\n",
       "      <td>-0.023823</td>\n",
       "      <td>-0.424248</td>\n",
       "    </tr>\n",
       "    <tr>\n",
       "      <th>sqft_basement</th>\n",
       "      <td>-0.005151</td>\n",
       "      <td>0.323816</td>\n",
       "      <td>0.303093</td>\n",
       "      <td>0.283770</td>\n",
       "      <td>0.435043</td>\n",
       "      <td>0.015286</td>\n",
       "      <td>-0.245705</td>\n",
       "      <td>0.080588</td>\n",
       "      <td>0.276947</td>\n",
       "      <td>0.174105</td>\n",
       "      <td>...</td>\n",
       "      <td>1.000000</td>\n",
       "      <td>-0.133124</td>\n",
       "      <td>0.071323</td>\n",
       "      <td>0.074845</td>\n",
       "      <td>0.110538</td>\n",
       "      <td>-0.144765</td>\n",
       "      <td>0.200355</td>\n",
       "      <td>0.017276</td>\n",
       "      <td>-0.015687</td>\n",
       "      <td>0.132865</td>\n",
       "    </tr>\n",
       "    <tr>\n",
       "      <th>yr_built</th>\n",
       "      <td>0.021380</td>\n",
       "      <td>0.054012</td>\n",
       "      <td>0.154178</td>\n",
       "      <td>0.506019</td>\n",
       "      <td>0.318049</td>\n",
       "      <td>0.053080</td>\n",
       "      <td>0.489319</td>\n",
       "      <td>-0.026161</td>\n",
       "      <td>-0.053440</td>\n",
       "      <td>-0.361417</td>\n",
       "      <td>...</td>\n",
       "      <td>-0.133124</td>\n",
       "      <td>1.000000</td>\n",
       "      <td>-0.224874</td>\n",
       "      <td>-0.346869</td>\n",
       "      <td>-0.148122</td>\n",
       "      <td>0.409356</td>\n",
       "      <td>0.326229</td>\n",
       "      <td>0.070958</td>\n",
       "      <td>0.003507</td>\n",
       "      <td>-0.999873</td>\n",
       "    </tr>\n",
       "    <tr>\n",
       "      <th>yr_renovated</th>\n",
       "      <td>-0.016907</td>\n",
       "      <td>0.126434</td>\n",
       "      <td>0.018841</td>\n",
       "      <td>0.050739</td>\n",
       "      <td>0.055363</td>\n",
       "      <td>0.007644</td>\n",
       "      <td>0.006338</td>\n",
       "      <td>0.092885</td>\n",
       "      <td>0.103917</td>\n",
       "      <td>-0.060618</td>\n",
       "      <td>...</td>\n",
       "      <td>0.071323</td>\n",
       "      <td>-0.224874</td>\n",
       "      <td>1.000000</td>\n",
       "      <td>0.064357</td>\n",
       "      <td>0.029398</td>\n",
       "      <td>-0.068372</td>\n",
       "      <td>-0.002673</td>\n",
       "      <td>0.007854</td>\n",
       "      <td>-0.023707</td>\n",
       "      <td>0.224480</td>\n",
       "    </tr>\n",
       "    <tr>\n",
       "      <th>zipcode</th>\n",
       "      <td>-0.008224</td>\n",
       "      <td>-0.053203</td>\n",
       "      <td>-0.152668</td>\n",
       "      <td>-0.203866</td>\n",
       "      <td>-0.199430</td>\n",
       "      <td>-0.129574</td>\n",
       "      <td>-0.059121</td>\n",
       "      <td>0.030285</td>\n",
       "      <td>0.084827</td>\n",
       "      <td>0.003026</td>\n",
       "      <td>...</td>\n",
       "      <td>0.074845</td>\n",
       "      <td>-0.346869</td>\n",
       "      <td>0.064357</td>\n",
       "      <td>1.000000</td>\n",
       "      <td>0.267048</td>\n",
       "      <td>-0.564072</td>\n",
       "      <td>-0.279033</td>\n",
       "      <td>-0.147221</td>\n",
       "      <td>0.001189</td>\n",
       "      <td>0.346864</td>\n",
       "    </tr>\n",
       "    <tr>\n",
       "      <th>lat</th>\n",
       "      <td>-0.001891</td>\n",
       "      <td>0.307003</td>\n",
       "      <td>-0.008931</td>\n",
       "      <td>0.024573</td>\n",
       "      <td>0.052529</td>\n",
       "      <td>-0.085683</td>\n",
       "      <td>0.049614</td>\n",
       "      <td>-0.014274</td>\n",
       "      <td>0.006157</td>\n",
       "      <td>-0.014941</td>\n",
       "      <td>...</td>\n",
       "      <td>0.110538</td>\n",
       "      <td>-0.148122</td>\n",
       "      <td>0.029398</td>\n",
       "      <td>0.267048</td>\n",
       "      <td>1.000000</td>\n",
       "      <td>-0.135512</td>\n",
       "      <td>0.048858</td>\n",
       "      <td>-0.086419</td>\n",
       "      <td>-0.029212</td>\n",
       "      <td>0.147647</td>\n",
       "    </tr>\n",
       "    <tr>\n",
       "      <th>long</th>\n",
       "      <td>0.020799</td>\n",
       "      <td>0.021626</td>\n",
       "      <td>0.129473</td>\n",
       "      <td>0.223042</td>\n",
       "      <td>0.240223</td>\n",
       "      <td>0.229521</td>\n",
       "      <td>0.125419</td>\n",
       "      <td>-0.041910</td>\n",
       "      <td>-0.078400</td>\n",
       "      <td>-0.106500</td>\n",
       "      <td>...</td>\n",
       "      <td>-0.144765</td>\n",
       "      <td>0.409356</td>\n",
       "      <td>-0.068372</td>\n",
       "      <td>-0.564072</td>\n",
       "      <td>-0.135512</td>\n",
       "      <td>1.000000</td>\n",
       "      <td>0.334605</td>\n",
       "      <td>0.254451</td>\n",
       "      <td>0.000270</td>\n",
       "      <td>-0.409323</td>\n",
       "    </tr>\n",
       "    <tr>\n",
       "      <th>sqft_living15</th>\n",
       "      <td>-0.002901</td>\n",
       "      <td>0.585379</td>\n",
       "      <td>0.391638</td>\n",
       "      <td>0.568634</td>\n",
       "      <td>0.756420</td>\n",
       "      <td>0.144608</td>\n",
       "      <td>0.279885</td>\n",
       "      <td>0.086463</td>\n",
       "      <td>0.280439</td>\n",
       "      <td>-0.092824</td>\n",
       "      <td>...</td>\n",
       "      <td>0.200355</td>\n",
       "      <td>0.326229</td>\n",
       "      <td>-0.002673</td>\n",
       "      <td>-0.279033</td>\n",
       "      <td>0.048858</td>\n",
       "      <td>0.334605</td>\n",
       "      <td>1.000000</td>\n",
       "      <td>0.183192</td>\n",
       "      <td>-0.021734</td>\n",
       "      <td>-0.326552</td>\n",
       "    </tr>\n",
       "    <tr>\n",
       "      <th>sqft_lot15</th>\n",
       "      <td>-0.138798</td>\n",
       "      <td>0.082447</td>\n",
       "      <td>0.029244</td>\n",
       "      <td>0.087175</td>\n",
       "      <td>0.183286</td>\n",
       "      <td>0.718557</td>\n",
       "      <td>-0.011269</td>\n",
       "      <td>0.030703</td>\n",
       "      <td>0.072575</td>\n",
       "      <td>-0.003406</td>\n",
       "      <td>...</td>\n",
       "      <td>0.017276</td>\n",
       "      <td>0.070958</td>\n",
       "      <td>0.007854</td>\n",
       "      <td>-0.147221</td>\n",
       "      <td>-0.086419</td>\n",
       "      <td>0.254451</td>\n",
       "      <td>0.183192</td>\n",
       "      <td>1.000000</td>\n",
       "      <td>-0.000085</td>\n",
       "      <td>-0.070954</td>\n",
       "    </tr>\n",
       "    <tr>\n",
       "      <th>yr_sell</th>\n",
       "      <td>0.010128</td>\n",
       "      <td>0.003576</td>\n",
       "      <td>-0.009838</td>\n",
       "      <td>-0.026596</td>\n",
       "      <td>-0.029038</td>\n",
       "      <td>0.005468</td>\n",
       "      <td>-0.022315</td>\n",
       "      <td>-0.004165</td>\n",
       "      <td>0.001364</td>\n",
       "      <td>-0.045589</td>\n",
       "      <td>...</td>\n",
       "      <td>-0.015687</td>\n",
       "      <td>0.003507</td>\n",
       "      <td>-0.023707</td>\n",
       "      <td>0.001189</td>\n",
       "      <td>-0.029212</td>\n",
       "      <td>0.000270</td>\n",
       "      <td>-0.021734</td>\n",
       "      <td>-0.000085</td>\n",
       "      <td>1.000000</td>\n",
       "      <td>0.012412</td>\n",
       "    </tr>\n",
       "    <tr>\n",
       "      <th>age</th>\n",
       "      <td>-0.021217</td>\n",
       "      <td>-0.053951</td>\n",
       "      <td>-0.154324</td>\n",
       "      <td>-0.506407</td>\n",
       "      <td>-0.318488</td>\n",
       "      <td>-0.052990</td>\n",
       "      <td>-0.489640</td>\n",
       "      <td>0.026093</td>\n",
       "      <td>0.053458</td>\n",
       "      <td>0.360665</td>\n",
       "      <td>...</td>\n",
       "      <td>0.132865</td>\n",
       "      <td>-0.999873</td>\n",
       "      <td>0.224480</td>\n",
       "      <td>0.346864</td>\n",
       "      <td>0.147647</td>\n",
       "      <td>-0.409323</td>\n",
       "      <td>-0.326552</td>\n",
       "      <td>-0.070954</td>\n",
       "      <td>0.012412</td>\n",
       "      <td>1.000000</td>\n",
       "    </tr>\n",
       "  </tbody>\n",
       "</table>\n",
       "<p>22 rows × 22 columns</p>\n",
       "</div>"
      ],
      "text/plain": [
       "                     id     price  bedrooms  bathrooms  sqft_living  sqft_lot  \\\n",
       "id             1.000000 -0.016762  0.001286   0.005160    -0.012258 -0.132109   \n",
       "price         -0.016762  1.000000  0.308350   0.525138     0.702035  0.089661   \n",
       "bedrooms       0.001286  0.308350  1.000000   0.515884     0.576671  0.031703   \n",
       "bathrooms      0.005160  0.525138  0.515884   1.000000     0.754665  0.087740   \n",
       "sqft_living   -0.012258  0.702035  0.576671   0.754665     1.000000  0.172826   \n",
       "sqft_lot      -0.132109  0.089661  0.031703   0.087740     0.172826  1.000000   \n",
       "floors         0.018525  0.256794  0.175429   0.500653     0.353949 -0.005201   \n",
       "waterfront    -0.002721  0.266369 -0.006582   0.063744     0.103818  0.021604   \n",
       "view           0.011592  0.397293  0.079532   0.187737     0.284611  0.074710   \n",
       "condition     -0.023783  0.036362  0.028472  -0.124982    -0.058753 -0.008958   \n",
       "grade          0.008130  0.667434  0.356967   0.664983     0.762704  0.113621   \n",
       "sqft_above    -0.010842  0.605567  0.477600   0.685342     0.876597  0.183512   \n",
       "sqft_basement -0.005151  0.323816  0.303093   0.283770     0.435043  0.015286   \n",
       "yr_built       0.021380  0.054012  0.154178   0.506019     0.318049  0.053080   \n",
       "yr_renovated  -0.016907  0.126434  0.018841   0.050739     0.055363  0.007644   \n",
       "zipcode       -0.008224 -0.053203 -0.152668  -0.203866    -0.199430 -0.129574   \n",
       "lat           -0.001891  0.307003 -0.008931   0.024573     0.052529 -0.085683   \n",
       "long           0.020799  0.021626  0.129473   0.223042     0.240223  0.229521   \n",
       "sqft_living15 -0.002901  0.585379  0.391638   0.568634     0.756420  0.144608   \n",
       "sqft_lot15    -0.138798  0.082447  0.029244   0.087175     0.183286  0.718557   \n",
       "yr_sell        0.010128  0.003576 -0.009838  -0.026596    -0.029038  0.005468   \n",
       "age           -0.021217 -0.053951 -0.154324  -0.506407    -0.318488 -0.052990   \n",
       "\n",
       "                 floors  waterfront      view  condition  ...  sqft_basement  \\\n",
       "id             0.018525   -0.002721  0.011592  -0.023783  ...      -0.005151   \n",
       "price          0.256794    0.266369  0.397293   0.036362  ...       0.323816   \n",
       "bedrooms       0.175429   -0.006582  0.079532   0.028472  ...       0.303093   \n",
       "bathrooms      0.500653    0.063744  0.187737  -0.124982  ...       0.283770   \n",
       "sqft_living    0.353949    0.103818  0.284611  -0.058753  ...       0.435043   \n",
       "sqft_lot      -0.005201    0.021604  0.074710  -0.008958  ...       0.015286   \n",
       "floors         1.000000    0.023698  0.029444  -0.263768  ...      -0.245705   \n",
       "waterfront     0.023698    1.000000  0.401857   0.016653  ...       0.080588   \n",
       "view           0.029444    0.401857  1.000000   0.045990  ...       0.276947   \n",
       "condition     -0.263768    0.016653  0.045990   1.000000  ...       0.174105   \n",
       "grade          0.458183    0.082775  0.251321  -0.144674  ...       0.168392   \n",
       "sqft_above     0.523885    0.072075  0.167649  -0.158214  ...      -0.051943   \n",
       "sqft_basement -0.245705    0.080588  0.276947   0.174105  ...       1.000000   \n",
       "yr_built       0.489319   -0.026161 -0.053440  -0.361417  ...      -0.133124   \n",
       "yr_renovated   0.006338    0.092885  0.103917  -0.060618  ...       0.071323   \n",
       "zipcode       -0.059121    0.030285  0.084827   0.003026  ...       0.074845   \n",
       "lat            0.049614   -0.014274  0.006157  -0.014941  ...       0.110538   \n",
       "long           0.125419   -0.041910 -0.078400  -0.106500  ...      -0.144765   \n",
       "sqft_living15  0.279885    0.086463  0.280439  -0.092824  ...       0.200355   \n",
       "sqft_lot15    -0.011269    0.030703  0.072575  -0.003406  ...       0.017276   \n",
       "yr_sell       -0.022315   -0.004165  0.001364  -0.045589  ...      -0.015687   \n",
       "age           -0.489640    0.026093  0.053458   0.360665  ...       0.132865   \n",
       "\n",
       "               yr_built  yr_renovated   zipcode       lat      long  \\\n",
       "id             0.021380     -0.016907 -0.008224 -0.001891  0.020799   \n",
       "price          0.054012      0.126434 -0.053203  0.307003  0.021626   \n",
       "bedrooms       0.154178      0.018841 -0.152668 -0.008931  0.129473   \n",
       "bathrooms      0.506019      0.050739 -0.203866  0.024573  0.223042   \n",
       "sqft_living    0.318049      0.055363 -0.199430  0.052529  0.240223   \n",
       "sqft_lot       0.053080      0.007644 -0.129574 -0.085683  0.229521   \n",
       "floors         0.489319      0.006338 -0.059121  0.049614  0.125419   \n",
       "waterfront    -0.026161      0.092885  0.030285 -0.014274 -0.041910   \n",
       "view          -0.053440      0.103917  0.084827  0.006157 -0.078400   \n",
       "condition     -0.361417     -0.060618  0.003026 -0.014941 -0.106500   \n",
       "grade          0.446963      0.014414 -0.184862  0.114084  0.198372   \n",
       "sqft_above     0.423898      0.023285 -0.261190 -0.000816  0.343803   \n",
       "sqft_basement -0.133124      0.071323  0.074845  0.110538 -0.144765   \n",
       "yr_built       1.000000     -0.224874 -0.346869 -0.148122  0.409356   \n",
       "yr_renovated  -0.224874      1.000000  0.064357  0.029398 -0.068372   \n",
       "zipcode       -0.346869      0.064357  1.000000  0.267048 -0.564072   \n",
       "lat           -0.148122      0.029398  0.267048  1.000000 -0.135512   \n",
       "long           0.409356     -0.068372 -0.564072 -0.135512  1.000000   \n",
       "sqft_living15  0.326229     -0.002673 -0.279033  0.048858  0.334605   \n",
       "sqft_lot15     0.070958      0.007854 -0.147221 -0.086419  0.254451   \n",
       "yr_sell        0.003507     -0.023707  0.001189 -0.029212  0.000270   \n",
       "age           -0.999873      0.224480  0.346864  0.147647 -0.409323   \n",
       "\n",
       "               sqft_living15  sqft_lot15   yr_sell       age  \n",
       "id                 -0.002901   -0.138798  0.010128 -0.021217  \n",
       "price               0.585379    0.082447  0.003576 -0.053951  \n",
       "bedrooms            0.391638    0.029244 -0.009838 -0.154324  \n",
       "bathrooms           0.568634    0.087175 -0.026596 -0.506407  \n",
       "sqft_living         0.756420    0.183286 -0.029038 -0.318488  \n",
       "sqft_lot            0.144608    0.718557  0.005468 -0.052990  \n",
       "floors              0.279885   -0.011269 -0.022315 -0.489640  \n",
       "waterfront          0.086463    0.030703 -0.004165  0.026093  \n",
       "view                0.280439    0.072575  0.001364  0.053458  \n",
       "condition          -0.092824   -0.003406 -0.045589  0.360665  \n",
       "grade               0.713202    0.119248 -0.030387 -0.447415  \n",
       "sqft_above          0.731870    0.194050 -0.023823 -0.424248  \n",
       "sqft_basement       0.200355    0.017276 -0.015687  0.132865  \n",
       "yr_built            0.326229    0.070958  0.003507 -0.999873  \n",
       "yr_renovated       -0.002673    0.007854 -0.023707  0.224480  \n",
       "zipcode            -0.279033   -0.147221  0.001189  0.346864  \n",
       "lat                 0.048858   -0.086419 -0.029212  0.147647  \n",
       "long                0.334605    0.254451  0.000270 -0.409323  \n",
       "sqft_living15       1.000000    0.183192 -0.021734 -0.326552  \n",
       "sqft_lot15          0.183192    1.000000 -0.000085 -0.070954  \n",
       "yr_sell            -0.021734   -0.000085  1.000000  0.012412  \n",
       "age                -0.326552   -0.070954  0.012412  1.000000  \n",
       "\n",
       "[22 rows x 22 columns]"
      ]
     },
     "execution_count": 11,
     "metadata": {},
     "output_type": "execute_result"
    }
   ],
   "source": [
    "df.corr()"
   ]
  },
  {
   "cell_type": "markdown",
   "id": "c5172fc0",
   "metadata": {},
   "source": [
    "Let's plot some data !"
   ]
  },
  {
   "cell_type": "code",
   "execution_count": 12,
   "id": "10042717",
   "metadata": {
    "scrolled": false
   },
   "outputs": [
    {
     "data": {
      "text/plain": [
       "<AxesSubplot:xlabel='sqft_living', ylabel='price'>"
      ]
     },
     "execution_count": 12,
     "metadata": {},
     "output_type": "execute_result"
    },
    {
     "data": {
      "image/png": "[encoded data removed]",
      "text/plain": [
       "<Figure size 432x288 with 1 Axes>"
      ]
     },
     "metadata": {
      "needs_background": "light"
     },
     "output_type": "display_data"
    }
   ],
   "source": [
    "import seaborn as sns\n",
    "df_prsqrtliv = df[['sqft_living','price']]\n",
    "sns.scatterplot(x = df_prsqrtliv['sqft_living'], y = df_prsqrtliv['price'], data = df_prsqrtliv)"
   ]
  },
  {
   "cell_type": "markdown",
   "id": "51533b91",
   "metadata": {},
   "source": [
    "From the correlation matrix, the coeff between our traget 'price' and the feature 'surface of the living room' is 0.7. By plotting price = f(sqrt_living), we could confirm a good \"positive linear correlation\""
   ]
  },
  {
   "cell_type": "code",
   "execution_count": 13,
   "id": "85f37baa",
   "metadata": {},
   "outputs": [
    {
     "data": {
      "text/plain": [
       "<AxesSubplot:xlabel='bathrooms', ylabel='price'>"
      ]
     },
     "execution_count": 13,
     "metadata": {},
     "output_type": "execute_result"
    },
    {
     "data": {
      "image/png": "[encoded data removed]",
      "text/plain": [
       "<Figure size 432x288 with 1 Axes>"
      ]
     },
     "metadata": {
      "needs_background": "light"
     },
     "output_type": "display_data"
    }
   ],
   "source": [
    "df_prbath = df[['bathrooms','price']]\n",
    "sns.scatterplot(x = df_prbath['bathrooms'], y = df_prbath['price'], data = df_prbath)"
   ]
  },
  {
   "cell_type": "markdown",
   "id": "1b35dcdb",
   "metadata": {},
   "source": [
    "From the correlation matrix, the coeff between our traget 'price' and the feature 'nbr of bathroom' is 0.525. By plotting price = f(bathroom), we could detect more or less a \"positive linear correlation\""
   ]
  },
  {
   "cell_type": "code",
   "execution_count": 14,
   "id": "f50c4c72",
   "metadata": {},
   "outputs": [
    {
     "data": {
      "text/plain": [
       "<AxesSubplot:xlabel='grade', ylabel='price'>"
      ]
     },
     "execution_count": 14,
     "metadata": {},
     "output_type": "execute_result"
    },
    {
     "data": {
      "image/png": "[encoded data removed]",
      "text/plain": [
       "<Figure size 432x288 with 1 Axes>"
      ]
     },
     "metadata": {
      "needs_background": "light"
     },
     "output_type": "display_data"
    }
   ],
   "source": [
    "df_prgrade = df[['grade','price']]\n",
    "sns.scatterplot(x = df_prgrade['grade'], y = df_prgrade['price'], data = df_prgrade)"
   ]
  },
  {
   "cell_type": "markdown",
   "id": "e8af4551",
   "metadata": {},
   "source": [
    "From the correlation matrix, the coeff between our traget 'price' and the feature 'nbr of bathroom' is 0.67. By plotting price = f(grade), we could detect more or less a \"positive linear correlation\""
   ]
  },
  {
   "cell_type": "code",
   "execution_count": 15,
   "id": "b331ec1a",
   "metadata": {
    "scrolled": true
   },
   "outputs": [
    {
     "data": {
      "text/plain": [
       "<AxesSubplot:xlabel='age', ylabel='price'>"
      ]
     },
     "execution_count": 15,
     "metadata": {},
     "output_type": "execute_result"
    },
    {
     "data": {
      "image/png": "[encoded data removed]",
      "text/plain": [
       "<Figure size 432x288 with 1 Axes>"
      ]
     },
     "metadata": {
      "needs_background": "light"
     },
     "output_type": "display_data"
    }
   ],
   "source": [
    "df_prage = df[['age','price']]\n",
    "sns.scatterplot(x = df_prage['age'], y = df_prage['price'], data = df_prage)"
   ]
  },
  {
   "cell_type": "markdown",
   "id": "8b78bc77",
   "metadata": {},
   "source": [
    "For the feature \"age\", unfortunately, the correlation coeddicient is -0.05. There is a bad/no corelation between this feature and our target \"price\" (confirmed as well by the scatter plot)"
   ]
  },
  {
   "cell_type": "code",
   "execution_count": 16,
   "id": "1e7e6149",
   "metadata": {},
   "outputs": [
    {
     "data": {
      "text/plain": [
       "<AxesSubplot:xlabel='sqft_above', ylabel='price'>"
      ]
     },
     "execution_count": 16,
     "metadata": {},
     "output_type": "execute_result"
    },
    {
     "data": {
      "image/png": "[encoded data removed]",
      "text/plain": [
       "<Figure size 432x288 with 1 Axes>"
      ]
     },
     "metadata": {
      "needs_background": "light"
     },
     "output_type": "display_data"
    }
   ],
   "source": [
    "df_prabove = df[['sqft_above','price']]\n",
    "sns.scatterplot(x = df_prabove['sqft_above'], y = df_prabove['price'], data = df_prabove)"
   ]
  },
  {
   "cell_type": "markdown",
   "id": "97e961d6",
   "metadata": {},
   "source": [
    "From the correlation matrix, the coeff between our traget 'price' and the feature 'surface above the house' is 0.6. By plotting price = f(sqrt_living), we could confirm a good \"positive linear correlation\""
   ]
  },
  {
   "cell_type": "markdown",
   "id": "7a84f155",
   "metadata": {},
   "source": [
    "### Selected features"
   ]
  },
  {
   "cell_type": "markdown",
   "id": "394252ad",
   "metadata": {},
   "source": [
    "Based on the above quick analysis, to perfrom a regression model for our target \"price\", we will select the following features : sqrt_living, bathrooms, grade, sqrt_above "
   ]
  },
  {
   "cell_type": "markdown",
   "id": "33436f8b",
   "metadata": {},
   "source": [
    "## Linear Regression"
   ]
  },
  {
   "cell_type": "markdown",
   "id": "a7caf7d6",
   "metadata": {},
   "source": [
    "For our linear regression model, we will select the feature with the higest correlation coeff \"sqrt_living\" to build the model for our target \"price\""
   ]
  },
  {
   "cell_type": "code",
   "execution_count": 17,
   "id": "e122ff58",
   "metadata": {},
   "outputs": [],
   "source": [
    "from sklearn.model_selection import train_test_split\n",
    "from sklearn.metrics import mean_squared_error as MSE\n",
    "from sklearn import metrics"
   ]
  },
  {
   "cell_type": "code",
   "execution_count": 18,
   "id": "a5cc65a2",
   "metadata": {},
   "outputs": [
    {
     "data": {
      "text/html": [
       "<div>\n",
       "<style scoped>\n",
       "    .dataframe tbody tr th:only-of-type {\n",
       "        vertical-align: middle;\n",
       "    }\n",
       "\n",
       "    .dataframe tbody tr th {\n",
       "        vertical-align: top;\n",
       "    }\n",
       "\n",
       "    .dataframe thead th {\n",
       "        text-align: right;\n",
       "    }\n",
       "</style>\n",
       "<table border=\"1\" class=\"dataframe\">\n",
       "  <thead>\n",
       "    <tr style=\"text-align: right;\">\n",
       "      <th></th>\n",
       "      <th>sqft_living</th>\n",
       "      <th>price</th>\n",
       "    </tr>\n",
       "  </thead>\n",
       "  <tbody>\n",
       "    <tr>\n",
       "      <th>0</th>\n",
       "      <td>1180</td>\n",
       "      <td>221900.0</td>\n",
       "    </tr>\n",
       "    <tr>\n",
       "      <th>1</th>\n",
       "      <td>2570</td>\n",
       "      <td>538000.0</td>\n",
       "    </tr>\n",
       "    <tr>\n",
       "      <th>2</th>\n",
       "      <td>770</td>\n",
       "      <td>180000.0</td>\n",
       "    </tr>\n",
       "    <tr>\n",
       "      <th>3</th>\n",
       "      <td>1960</td>\n",
       "      <td>604000.0</td>\n",
       "    </tr>\n",
       "    <tr>\n",
       "      <th>4</th>\n",
       "      <td>1680</td>\n",
       "      <td>510000.0</td>\n",
       "    </tr>\n",
       "  </tbody>\n",
       "</table>\n",
       "</div>"
      ],
      "text/plain": [
       "   sqft_living     price\n",
       "0         1180  221900.0\n",
       "1         2570  538000.0\n",
       "2          770  180000.0\n",
       "3         1960  604000.0\n",
       "4         1680  510000.0"
      ]
     },
     "execution_count": 18,
     "metadata": {},
     "output_type": "execute_result"
    }
   ],
   "source": [
    "df_linearregression = df[['sqft_living', 'price']]\n",
    "df_linearregression.head()"
   ]
  },
  {
   "cell_type": "markdown",
   "id": "c3c0dfeb",
   "metadata": {},
   "source": [
    "### Model built"
   ]
  },
  {
   "cell_type": "code",
   "execution_count": 19,
   "id": "cfae198f",
   "metadata": {},
   "outputs": [],
   "source": [
    "Xl = df_linearregression['sqft_living'].values[:,np.newaxis]\n",
    "Yl = df_linearregression['price'].values\n",
    "\n",
    "Xl_train, Xl_test, Yl_train, Yl_test = train_test_split(Xl, Yl, test_size = 0.2, random_state = 40)"
   ]
  },
  {
   "cell_type": "code",
   "execution_count": 20,
   "id": "62a16ce3",
   "metadata": {},
   "outputs": [],
   "source": [
    "linearmodel = lg()\n",
    "linearmodel.fit(Xl_train, Yl_train)\n",
    "linear_prediction = linearmodel.predict(Xl_test)"
   ]
  },
  {
   "cell_type": "code",
   "execution_count": 21,
   "id": "dd395371",
   "metadata": {},
   "outputs": [
    {
     "name": "stdout",
     "output_type": "stream",
     "text": [
      "Model slope :  [282.4452088]\n",
      "Model bias :  -47399.245995821664\n"
     ]
    }
   ],
   "source": [
    "print(\"Model slope : \", linearmodel.coef_)\n",
    "print(\"Model bias : \", linearmodel.intercept_)"
   ]
  },
  {
   "cell_type": "markdown",
   "id": "d0f5d224",
   "metadata": {},
   "source": [
    "### Model Metrics"
   ]
  },
  {
   "cell_type": "code",
   "execution_count": 22,
   "id": "c5c00cf6",
   "metadata": {},
   "outputs": [
    {
     "name": "stdout",
     "output_type": "stream",
     "text": [
      "Model mean squared error :  62451720102.954\n",
      "Model R squared :  0.5035535751151091\n"
     ]
    }
   ],
   "source": [
    "print(\"Model mean squared error : \", MSE(Yl_test,linear_prediction))\n",
    "print(\"Model R squared : \", metrics.r2_score(Yl_test,linear_prediction))"
   ]
  },
  {
   "cell_type": "markdown",
   "id": "7f0c051e",
   "metadata": {},
   "source": [
    "### Linear Model Plot"
   ]
  },
  {
   "cell_type": "code",
   "execution_count": 26,
   "id": "de50b06f",
   "metadata": {},
   "outputs": [
    {
     "data": {
      "image/png": "[encoded data removed]",
      "text/plain": [
       "<Figure size 432x288 with 1 Axes>"
      ]
     },
     "metadata": {
      "needs_background": "light"
     },
     "output_type": "display_data"
    }
   ],
   "source": [
    "plt.scatter(Xl,Yl,color=\"b\")\n",
    "plt.title(\"Linear Regression\")\n",
    "plt.ylabel(\"Price\")\n",
    "plt.xlabel(\"Living room surface\")\n",
    "plt.plot(Xl,linearmodel.predict(Xl),color=\"k\")\n",
    "plt.show()"
   ]
  },
  {
   "cell_type": "markdown",
   "id": "f5ea264e",
   "metadata": {},
   "source": [
    "# Multiple Linear Regression"
   ]
  },
  {
   "cell_type": "markdown",
   "id": "063147e0",
   "metadata": {},
   "source": [
    "For our multiple linear regression model, we will select all the features we have selected previously to build the model for our target \"price\""
   ]
  },
  {
   "cell_type": "code",
   "execution_count": 27,
   "id": "03ee7363",
   "metadata": {},
   "outputs": [
    {
     "data": {
      "text/html": [
       "<div>\n",
       "<style scoped>\n",
       "    .dataframe tbody tr th:only-of-type {\n",
       "        vertical-align: middle;\n",
       "    }\n",
       "\n",
       "    .dataframe tbody tr th {\n",
       "        vertical-align: top;\n",
       "    }\n",
       "\n",
       "    .dataframe thead th {\n",
       "        text-align: right;\n",
       "    }\n",
       "</style>\n",
       "<table border=\"1\" class=\"dataframe\">\n",
       "  <thead>\n",
       "    <tr style=\"text-align: right;\">\n",
       "      <th></th>\n",
       "      <th>sqft_living</th>\n",
       "      <th>bathrooms</th>\n",
       "      <th>grade</th>\n",
       "      <th>sqft_above</th>\n",
       "      <th>price</th>\n",
       "    </tr>\n",
       "  </thead>\n",
       "  <tbody>\n",
       "    <tr>\n",
       "      <th>0</th>\n",
       "      <td>1180</td>\n",
       "      <td>1.00</td>\n",
       "      <td>7</td>\n",
       "      <td>1180</td>\n",
       "      <td>221900.0</td>\n",
       "    </tr>\n",
       "    <tr>\n",
       "      <th>1</th>\n",
       "      <td>2570</td>\n",
       "      <td>2.25</td>\n",
       "      <td>7</td>\n",
       "      <td>2170</td>\n",
       "      <td>538000.0</td>\n",
       "    </tr>\n",
       "    <tr>\n",
       "      <th>2</th>\n",
       "      <td>770</td>\n",
       "      <td>1.00</td>\n",
       "      <td>6</td>\n",
       "      <td>770</td>\n",
       "      <td>180000.0</td>\n",
       "    </tr>\n",
       "    <tr>\n",
       "      <th>3</th>\n",
       "      <td>1960</td>\n",
       "      <td>3.00</td>\n",
       "      <td>7</td>\n",
       "      <td>1050</td>\n",
       "      <td>604000.0</td>\n",
       "    </tr>\n",
       "    <tr>\n",
       "      <th>4</th>\n",
       "      <td>1680</td>\n",
       "      <td>2.00</td>\n",
       "      <td>8</td>\n",
       "      <td>1680</td>\n",
       "      <td>510000.0</td>\n",
       "    </tr>\n",
       "  </tbody>\n",
       "</table>\n",
       "</div>"
      ],
      "text/plain": [
       "   sqft_living  bathrooms  grade  sqft_above     price\n",
       "0         1180       1.00      7        1180  221900.0\n",
       "1         2570       2.25      7        2170  538000.0\n",
       "2          770       1.00      6         770  180000.0\n",
       "3         1960       3.00      7        1050  604000.0\n",
       "4         1680       2.00      8        1680  510000.0"
      ]
     },
     "execution_count": 27,
     "metadata": {},
     "output_type": "execute_result"
    }
   ],
   "source": [
    "df_multiregression = df[['sqft_living', 'bathrooms', 'grade', 'sqft_above','price']]\n",
    "df_multiregression.head()"
   ]
  },
  {
   "cell_type": "code",
   "execution_count": 28,
   "id": "3ac8d512",
   "metadata": {},
   "outputs": [],
   "source": [
    "Xm = df_multiregression[['sqft_living', 'bathrooms', 'grade', 'sqft_above']]\n",
    "Ym = df_multiregression['price'].values\n",
    "\n",
    "Xm_train, Xm_test, Ym_train, Ym_test = train_test_split(Xm, Ym, test_size = 0.2, random_state = 40)"
   ]
  },
  {
   "cell_type": "code",
   "execution_count": 30,
   "id": "0ed5c697",
   "metadata": {},
   "outputs": [],
   "source": [
    "multilinearmodel = lg()\n",
    "multilinearmodel.fit(Xm_train, Ym_train)\n",
    "multilinear_prediction = multilinearmodel.predict(Xm_test)"
   ]
  },
  {
   "cell_type": "code",
   "execution_count": 32,
   "id": "44d1c4d0",
   "metadata": {},
   "outputs": [
    {
     "name": "stdout",
     "output_type": "stream",
     "text": [
      "Model coefficients :  [ 2.52937246e+02 -3.58411960e+04  1.15982838e+05 -7.69980529e+01]\n",
      "Model bias :  -660769.8227356651\n"
     ]
    }
   ],
   "source": [
    "print(\"Model coefficients : \", multilinearmodel.coef_)\n",
    "print(\"Model bias : \", multilinearmodel.intercept_)"
   ]
  },
  {
   "cell_type": "markdown",
   "id": "dc5acb7f",
   "metadata": {},
   "source": [
    "### Model Metrics"
   ]
  },
  {
   "cell_type": "code",
   "execution_count": 33,
   "id": "910d15b9",
   "metadata": {},
   "outputs": [
    {
     "name": "stdout",
     "output_type": "stream",
     "text": [
      "Model mean squared error :  56006409956.61068\n",
      "Model R squared :  0.5547891723757057\n"
     ]
    }
   ],
   "source": [
    "print(\"Model mean squared error : \", MSE(Ym_test,multilinear_prediction))\n",
    "print(\"Model R squared : \", metrics.r2_score(Ym_test,multilinear_prediction))"
   ]
  },
  {
   "cell_type": "markdown",
   "id": "c1fded0b",
   "metadata": {},
   "source": [
    "# Polynomial Regression"
   ]
  },
  {
   "cell_type": "markdown",
   "id": "feb79768",
   "metadata": {},
   "source": [
    "We will try to predict our target from the selected features using polynomial regression"
   ]
  },
  {
   "cell_type": "code",
   "execution_count": 38,
   "id": "ff756a1b",
   "metadata": {},
   "outputs": [],
   "source": [
    "from sklearn.preprocessing import PolynomialFeatures\n",
    "polymodel = lg()\n",
    "poly = PolynomialFeatures(degree = 2)"
   ]
  },
  {
   "cell_type": "code",
   "execution_count": 39,
   "id": "85fb0436",
   "metadata": {},
   "outputs": [
    {
     "data": {
      "text/html": [
       "<div>\n",
       "<style scoped>\n",
       "    .dataframe tbody tr th:only-of-type {\n",
       "        vertical-align: middle;\n",
       "    }\n",
       "\n",
       "    .dataframe tbody tr th {\n",
       "        vertical-align: top;\n",
       "    }\n",
       "\n",
       "    .dataframe thead th {\n",
       "        text-align: right;\n",
       "    }\n",
       "</style>\n",
       "<table border=\"1\" class=\"dataframe\">\n",
       "  <thead>\n",
       "    <tr style=\"text-align: right;\">\n",
       "      <th></th>\n",
       "      <th>sqft_living</th>\n",
       "      <th>bathrooms</th>\n",
       "      <th>grade</th>\n",
       "      <th>sqft_above</th>\n",
       "      <th>price</th>\n",
       "    </tr>\n",
       "  </thead>\n",
       "  <tbody>\n",
       "    <tr>\n",
       "      <th>0</th>\n",
       "      <td>1180</td>\n",
       "      <td>1.00</td>\n",
       "      <td>7</td>\n",
       "      <td>1180</td>\n",
       "      <td>221900.0</td>\n",
       "    </tr>\n",
       "    <tr>\n",
       "      <th>1</th>\n",
       "      <td>2570</td>\n",
       "      <td>2.25</td>\n",
       "      <td>7</td>\n",
       "      <td>2170</td>\n",
       "      <td>538000.0</td>\n",
       "    </tr>\n",
       "    <tr>\n",
       "      <th>2</th>\n",
       "      <td>770</td>\n",
       "      <td>1.00</td>\n",
       "      <td>6</td>\n",
       "      <td>770</td>\n",
       "      <td>180000.0</td>\n",
       "    </tr>\n",
       "    <tr>\n",
       "      <th>3</th>\n",
       "      <td>1960</td>\n",
       "      <td>3.00</td>\n",
       "      <td>7</td>\n",
       "      <td>1050</td>\n",
       "      <td>604000.0</td>\n",
       "    </tr>\n",
       "    <tr>\n",
       "      <th>4</th>\n",
       "      <td>1680</td>\n",
       "      <td>2.00</td>\n",
       "      <td>8</td>\n",
       "      <td>1680</td>\n",
       "      <td>510000.0</td>\n",
       "    </tr>\n",
       "  </tbody>\n",
       "</table>\n",
       "</div>"
      ],
      "text/plain": [
       "   sqft_living  bathrooms  grade  sqft_above     price\n",
       "0         1180       1.00      7        1180  221900.0\n",
       "1         2570       2.25      7        2170  538000.0\n",
       "2          770       1.00      6         770  180000.0\n",
       "3         1960       3.00      7        1050  604000.0\n",
       "4         1680       2.00      8        1680  510000.0"
      ]
     },
     "execution_count": 39,
     "metadata": {},
     "output_type": "execute_result"
    }
   ],
   "source": [
    "df_poly = df[['sqft_living', 'bathrooms', 'grade', 'sqft_above','price']]\n",
    "df_poly.head()"
   ]
  },
  {
   "cell_type": "code",
   "execution_count": 41,
   "id": "01c129a8",
   "metadata": {},
   "outputs": [],
   "source": [
    "X = df_poly[['sqft_living', 'bathrooms', 'grade', 'sqft_above']]\n",
    "Yp = df_poly['price'].values\n",
    "\n",
    "X_train, X_test, Yp_train, Yp_test = train_test_split(X, Yp, test_size = 0.2, random_state = 40)"
   ]
  },
  {
   "cell_type": "code",
   "execution_count": 43,
   "id": "64ac17d9",
   "metadata": {},
   "outputs": [],
   "source": [
    "Xp_train = poly.fit_transform(X_train)\n",
    "polymodel.fit(Xp_train,Yp_train)\n",
    "Xp_test = poly.fit_transform(X_test)\n",
    "poly_prediction = polymodel.predict(Xp_test)"
   ]
  },
  {
   "cell_type": "code",
   "execution_count": 44,
   "id": "160a3e66",
   "metadata": {},
   "outputs": [
    {
     "name": "stdout",
     "output_type": "stream",
     "text": [
      "Model coefficients :  [ 0.00000000e+00 -3.20165317e+02 -1.61502852e+05 -7.30628522e+04\n",
      "  2.17815245e+02 -8.10637117e-02 -1.97991051e+01  7.52526502e+01\n",
      "  1.98860457e-01  2.81758796e+04  7.45242368e+03  6.89797675e+00\n",
      "  7.28762333e+03 -5.41756548e+01 -1.00351229e-01]\n",
      "Model bias :  538711.4811079454\n"
     ]
    }
   ],
   "source": [
    "print(\"Model coefficients : \", polymodel.coef_)\n",
    "print(\"Model bias : \", polymodel.intercept_)"
   ]
  },
  {
   "cell_type": "markdown",
   "id": "95c5231d",
   "metadata": {},
   "source": [
    "### Model Metrics"
   ]
  },
  {
   "cell_type": "code",
   "execution_count": 45,
   "id": "6435e27a",
   "metadata": {},
   "outputs": [
    {
     "name": "stdout",
     "output_type": "stream",
     "text": [
      "Model mean squared error :  49637385552.73096\n",
      "Model R squared :  0.6054183526464529\n"
     ]
    }
   ],
   "source": [
    "print(\"Model mean squared error : \", MSE(Yp_test,poly_prediction))\n",
    "print(\"Model R squared : \", metrics.r2_score(Yp_test,poly_prediction))"
   ]
  },
  {
   "cell_type": "markdown",
   "id": "1e36a096",
   "metadata": {},
   "source": [
    "# Recap"
   ]
  },
  {
   "cell_type": "markdown",
   "id": "c52c9f86",
   "metadata": {},
   "source": [
    "By calculating each model metrics (MSE & R squared), we could confirm that the \"polynomial regression\" model has the better perfromance among all the 3 used methods"
   ]
  },
  {
   "cell_type": "markdown",
   "id": "da6ece28",
   "metadata": {},
   "source": [
    "### Linear :"
   ]
  },
  {
   "cell_type": "code",
   "execution_count": 47,
   "id": "7dcca5f8",
   "metadata": {},
   "outputs": [
    {
     "name": "stdout",
     "output_type": "stream",
     "text": [
      "Linear Model mean squared error :  62451720102.954\n",
      "Linear Model R squared :  0.5035535751151091\n"
     ]
    }
   ],
   "source": [
    "print(\"Linear Model mean squared error : \", MSE(Yl_test,linear_prediction))\n",
    "print(\"Linear Model R squared : \", metrics.r2_score(Yl_test,linear_prediction))"
   ]
  },
  {
   "cell_type": "markdown",
   "id": "a87a6c3e",
   "metadata": {},
   "source": [
    "### Multi Linear"
   ]
  },
  {
   "cell_type": "code",
   "execution_count": 48,
   "id": "e55c30cd",
   "metadata": {},
   "outputs": [
    {
     "name": "stdout",
     "output_type": "stream",
     "text": [
      "Multi Linear Model mean squared error :  56006409956.61068\n",
      "Multi LinearModel R squared :  0.5547891723757057\n"
     ]
    }
   ],
   "source": [
    "print(\"Multi Linear Model mean squared error : \", MSE(Ym_test,multilinear_prediction))\n",
    "print(\"Multi LinearModel R squared : \", metrics.r2_score(Ym_test,multilinear_prediction))"
   ]
  },
  {
   "cell_type": "markdown",
   "id": "f948d5fe",
   "metadata": {},
   "source": [
    "### Polynomial"
   ]
  },
  {
   "cell_type": "code",
   "execution_count": 49,
   "id": "9d6a884a",
   "metadata": {},
   "outputs": [
    {
     "name": "stdout",
     "output_type": "stream",
     "text": [
      "Polynomial Regression Model mean squared error :  49637385552.73096\n",
      "Polynomial RegressionModel R squared :  0.6054183526464529\n"
     ]
    }
   ],
   "source": [
    "print(\"Polynomial Regression Model mean squared error : \", MSE(Yp_test,poly_prediction))\n",
    "print(\"Polynomial RegressionModel R squared : \", metrics.r2_score(Yp_test,poly_prediction))"
   ]
  },
  {
   "cell_type": "code",
   "execution_count": null,
   "id": "2f8b95d2",
   "metadata": {},
   "outputs": [],
   "source": []
  }
 ],
 "metadata": {
  "kernelspec": {
   "display_name": "Python 3 (ipykernel)",
   "language": "python",
   "name": "python3"
  },
  "language_info": {
   "codemirror_mode": {
    "name": "ipython",
    "version": 3
   },
   "file_extension": ".py",
   "mimetype": "text/x-python",
   "name": "python",
   "nbconvert_exporter": "python",
   "pygments_lexer": "ipython3",
   "version": "3.9.7"
  }
 },
 "nbformat": 4,
 "nbformat_minor": 5
}
